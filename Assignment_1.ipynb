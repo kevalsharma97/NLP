{
  "nbformat": 4,
  "nbformat_minor": 0,
  "metadata": {
    "colab": {
      "name": "Assignment-1.ipynb",
      "provenance": [],
      "collapsed_sections": [],
      "authorship_tag": "ABX9TyO+dCALPBLryajPTSCEtHTK",
      "include_colab_link": true
    },
    "kernelspec": {
      "name": "python3",
      "display_name": "Python 3"
    },
    "accelerator": "GPU"
  },
  "cells": [
    {
      "cell_type": "markdown",
      "metadata": {
        "id": "view-in-github",
        "colab_type": "text"
      },
      "source": [
        "<a href=\"https://colab.research.google.com/github/kevalsharma97/NLP/blob/master/Assignment_1.ipynb\" target=\"_parent\"><img src=\"https://colab.research.google.com/assets/colab-badge.svg\" alt=\"Open In Colab\"/></a>"
      ]
    },
    {
      "cell_type": "code",
      "metadata": {
        "id": "bbW5T7YdC1qN",
        "colab_type": "code",
        "outputId": "bd311c0a-2637-4355-d1e0-fc61e77b17b2",
        "colab": {
          "base_uri": "https://localhost:8080/",
          "height": 121
        }
      },
      "source": [
        "from google.colab import drive\n",
        "drive.mount('/content/drive')"
      ],
      "execution_count": 4,
      "outputs": [
        {
          "output_type": "stream",
          "text": [
            "Go to this URL in a browser: https://accounts.google.com/o/oauth2/auth?client_id=947318989803-6bn6qk8qdgf4n4g3pfee6491hc0brc4i.apps.googleusercontent.com&redirect_uri=urn%3aietf%3awg%3aoauth%3a2.0%3aoob&response_type=code&scope=email%20https%3a%2f%2fwww.googleapis.com%2fauth%2fdocs.test%20https%3a%2f%2fwww.googleapis.com%2fauth%2fdrive%20https%3a%2f%2fwww.googleapis.com%2fauth%2fdrive.photos.readonly%20https%3a%2f%2fwww.googleapis.com%2fauth%2fpeopleapi.readonly\n",
            "\n",
            "Enter your authorization code:\n",
            "··········\n",
            "Mounted at /content/drive\n"
          ],
          "name": "stdout"
        }
      ]
    },
    {
      "cell_type": "markdown",
      "metadata": {
        "id": "MPIDN9eaJoFL",
        "colab_type": "text"
      },
      "source": [
        ""
      ]
    },
    {
      "cell_type": "code",
      "metadata": {
        "id": "6q4MJFoZC_JJ",
        "colab_type": "code",
        "colab": {}
      },
      "source": [
        "import time\n",
        "from sklearn import linear_model\n",
        "# importing pandas to read dataset\n",
        "import pandas as pd\n",
        "\n",
        "# importing train_test_split for splitting dataset into training and testing set\n",
        "from sklearn.model_selection import train_test_split\n",
        "from sklearn.metrics import mean_squared_error, r2_score\n",
        "import numpy as np\n",
        "import matplotlib.pyplot as plt"
      ],
      "execution_count": 0,
      "outputs": []
    },
    {
      "cell_type": "code",
      "metadata": {
        "id": "4vtLXSpTDaDo",
        "colab_type": "code",
        "outputId": "367ebbb4-7269-44c4-fdec-8cb174ed260d",
        "colab": {
          "base_uri": "https://localhost:8080/",
          "height": 380
        }
      },
      "source": [
        "start_time = time.time()\n",
        "# Reading dataset from specified location\n",
        "dataset=pd.read_csv('/content/drive/My Drive/housing.csv')\n",
        "\n",
        "# To remove any incomplete rows\n",
        "dataset=dataset.dropna()\n",
        "\n",
        "print(\"First 10 rows :\")\n",
        "dataset.head(n=10)"
      ],
      "execution_count": 9,
      "outputs": [
        {
          "output_type": "stream",
          "text": [
            "First 10 rows :\n"
          ],
          "name": "stdout"
        },
        {
          "output_type": "execute_result",
          "data": {
            "text/html": [
              "<div>\n",
              "<style scoped>\n",
              "    .dataframe tbody tr th:only-of-type {\n",
              "        vertical-align: middle;\n",
              "    }\n",
              "\n",
              "    .dataframe tbody tr th {\n",
              "        vertical-align: top;\n",
              "    }\n",
              "\n",
              "    .dataframe thead th {\n",
              "        text-align: right;\n",
              "    }\n",
              "</style>\n",
              "<table border=\"1\" class=\"dataframe\">\n",
              "  <thead>\n",
              "    <tr style=\"text-align: right;\">\n",
              "      <th></th>\n",
              "      <th>longitude</th>\n",
              "      <th>latitude</th>\n",
              "      <th>housing_median_age</th>\n",
              "      <th>total_rooms</th>\n",
              "      <th>total_bedrooms</th>\n",
              "      <th>population</th>\n",
              "      <th>households</th>\n",
              "      <th>median_income</th>\n",
              "      <th>median_house_value</th>\n",
              "      <th>ocean_proximity</th>\n",
              "    </tr>\n",
              "  </thead>\n",
              "  <tbody>\n",
              "    <tr>\n",
              "      <th>0</th>\n",
              "      <td>-122.23</td>\n",
              "      <td>37.88</td>\n",
              "      <td>41.0</td>\n",
              "      <td>880.0</td>\n",
              "      <td>129.0</td>\n",
              "      <td>322.0</td>\n",
              "      <td>126.0</td>\n",
              "      <td>8.3252</td>\n",
              "      <td>452600.0</td>\n",
              "      <td>NEAR BAY</td>\n",
              "    </tr>\n",
              "    <tr>\n",
              "      <th>1</th>\n",
              "      <td>-122.22</td>\n",
              "      <td>37.86</td>\n",
              "      <td>21.0</td>\n",
              "      <td>7099.0</td>\n",
              "      <td>1106.0</td>\n",
              "      <td>2401.0</td>\n",
              "      <td>1138.0</td>\n",
              "      <td>8.3014</td>\n",
              "      <td>358500.0</td>\n",
              "      <td>NEAR BAY</td>\n",
              "    </tr>\n",
              "    <tr>\n",
              "      <th>2</th>\n",
              "      <td>-122.24</td>\n",
              "      <td>37.85</td>\n",
              "      <td>52.0</td>\n",
              "      <td>1467.0</td>\n",
              "      <td>190.0</td>\n",
              "      <td>496.0</td>\n",
              "      <td>177.0</td>\n",
              "      <td>7.2574</td>\n",
              "      <td>352100.0</td>\n",
              "      <td>NEAR BAY</td>\n",
              "    </tr>\n",
              "    <tr>\n",
              "      <th>3</th>\n",
              "      <td>-122.25</td>\n",
              "      <td>37.85</td>\n",
              "      <td>52.0</td>\n",
              "      <td>1274.0</td>\n",
              "      <td>235.0</td>\n",
              "      <td>558.0</td>\n",
              "      <td>219.0</td>\n",
              "      <td>5.6431</td>\n",
              "      <td>341300.0</td>\n",
              "      <td>NEAR BAY</td>\n",
              "    </tr>\n",
              "    <tr>\n",
              "      <th>4</th>\n",
              "      <td>-122.25</td>\n",
              "      <td>37.85</td>\n",
              "      <td>52.0</td>\n",
              "      <td>1627.0</td>\n",
              "      <td>280.0</td>\n",
              "      <td>565.0</td>\n",
              "      <td>259.0</td>\n",
              "      <td>3.8462</td>\n",
              "      <td>342200.0</td>\n",
              "      <td>NEAR BAY</td>\n",
              "    </tr>\n",
              "    <tr>\n",
              "      <th>5</th>\n",
              "      <td>-122.25</td>\n",
              "      <td>37.85</td>\n",
              "      <td>52.0</td>\n",
              "      <td>919.0</td>\n",
              "      <td>213.0</td>\n",
              "      <td>413.0</td>\n",
              "      <td>193.0</td>\n",
              "      <td>4.0368</td>\n",
              "      <td>269700.0</td>\n",
              "      <td>NEAR BAY</td>\n",
              "    </tr>\n",
              "    <tr>\n",
              "      <th>6</th>\n",
              "      <td>-122.25</td>\n",
              "      <td>37.84</td>\n",
              "      <td>52.0</td>\n",
              "      <td>2535.0</td>\n",
              "      <td>489.0</td>\n",
              "      <td>1094.0</td>\n",
              "      <td>514.0</td>\n",
              "      <td>3.6591</td>\n",
              "      <td>299200.0</td>\n",
              "      <td>NEAR BAY</td>\n",
              "    </tr>\n",
              "    <tr>\n",
              "      <th>7</th>\n",
              "      <td>-122.25</td>\n",
              "      <td>37.84</td>\n",
              "      <td>52.0</td>\n",
              "      <td>3104.0</td>\n",
              "      <td>687.0</td>\n",
              "      <td>1157.0</td>\n",
              "      <td>647.0</td>\n",
              "      <td>3.1200</td>\n",
              "      <td>241400.0</td>\n",
              "      <td>NEAR BAY</td>\n",
              "    </tr>\n",
              "    <tr>\n",
              "      <th>8</th>\n",
              "      <td>-122.26</td>\n",
              "      <td>37.84</td>\n",
              "      <td>42.0</td>\n",
              "      <td>2555.0</td>\n",
              "      <td>665.0</td>\n",
              "      <td>1206.0</td>\n",
              "      <td>595.0</td>\n",
              "      <td>2.0804</td>\n",
              "      <td>226700.0</td>\n",
              "      <td>NEAR BAY</td>\n",
              "    </tr>\n",
              "    <tr>\n",
              "      <th>9</th>\n",
              "      <td>-122.25</td>\n",
              "      <td>37.84</td>\n",
              "      <td>52.0</td>\n",
              "      <td>3549.0</td>\n",
              "      <td>707.0</td>\n",
              "      <td>1551.0</td>\n",
              "      <td>714.0</td>\n",
              "      <td>3.6912</td>\n",
              "      <td>261100.0</td>\n",
              "      <td>NEAR BAY</td>\n",
              "    </tr>\n",
              "  </tbody>\n",
              "</table>\n",
              "</div>"
            ],
            "text/plain": [
              "   longitude  latitude  ...  median_house_value  ocean_proximity\n",
              "0    -122.23     37.88  ...            452600.0         NEAR BAY\n",
              "1    -122.22     37.86  ...            358500.0         NEAR BAY\n",
              "2    -122.24     37.85  ...            352100.0         NEAR BAY\n",
              "3    -122.25     37.85  ...            341300.0         NEAR BAY\n",
              "4    -122.25     37.85  ...            342200.0         NEAR BAY\n",
              "5    -122.25     37.85  ...            269700.0         NEAR BAY\n",
              "6    -122.25     37.84  ...            299200.0         NEAR BAY\n",
              "7    -122.25     37.84  ...            241400.0         NEAR BAY\n",
              "8    -122.26     37.84  ...            226700.0         NEAR BAY\n",
              "9    -122.25     37.84  ...            261100.0         NEAR BAY\n",
              "\n",
              "[10 rows x 10 columns]"
            ]
          },
          "metadata": {
            "tags": []
          },
          "execution_count": 9
        }
      ]
    },
    {
      "cell_type": "code",
      "metadata": {
        "id": "oeyrpzx61iH_",
        "colab_type": "code",
        "outputId": "8706860b-5742-4e28-d195-3ce62befb74a",
        "colab": {
          "base_uri": "https://localhost:8080/",
          "height": 526
        }
      },
      "source": [
        "# Plotting the first 10 rows of dataset on graph\n",
        "dataset.head(18).plot(subplots=True, figsize=(6,6))"
      ],
      "execution_count": 10,
      "outputs": [
        {
          "output_type": "execute_result",
          "data": {
            "text/plain": [
              "array([<matplotlib.axes._subplots.AxesSubplot object at 0x7fc71ddfafd0>,\n",
              "       <matplotlib.axes._subplots.AxesSubplot object at 0x7fc71de314e0>,\n",
              "       <matplotlib.axes._subplots.AxesSubplot object at 0x7fc71dddf940>,\n",
              "       <matplotlib.axes._subplots.AxesSubplot object at 0x7fc71dd93da0>,\n",
              "       <matplotlib.axes._subplots.AxesSubplot object at 0x7fc71dd4f240>,\n",
              "       <matplotlib.axes._subplots.AxesSubplot object at 0x7fc71dd016a0>,\n",
              "       <matplotlib.axes._subplots.AxesSubplot object at 0x7fc71dd33b00>,\n",
              "       <matplotlib.axes._subplots.AxesSubplot object at 0x7fc71dce4f98>,\n",
              "       <matplotlib.axes._subplots.AxesSubplot object at 0x7fc71dce4fd0>],\n",
              "      dtype=object)"
            ]
          },
          "metadata": {
            "tags": []
          },
          "execution_count": 10
        },
        {
          "output_type": "display_data",
          "data": {
            "image/png": "[encoded data removed]",
            "text/plain": [
              "<Figure size 432x432 with 9 Axes>"
            ]
          },
          "metadata": {
            "tags": []
          }
        }
      ]
    },
    {
      "cell_type": "code",
      "metadata": {
        "id": "OHnQzLbrDtLg",
        "colab_type": "code",
        "colab": {}
      },
      "source": [
        "# Storing the median_house_value in a variable for future prediction\n",
        "Y=dataset['median_house_value']\n",
        "\n",
        "# Storing rest of the columns in another variable to predict value of other column\n",
        "X=dataset.loc[:,'longitude':'median_income']"
      ],
      "execution_count": 0,
      "outputs": []
    },
    {
      "cell_type": "code",
      "metadata": {
        "id": "60rR2ihJEJjx",
        "colab_type": "code",
        "outputId": "c368b0a2-254c-40b3-cada-d0670b59b52b",
        "colab": {
          "base_uri": "https://localhost:8080/",
          "height": 34
        }
      },
      "source": [
        "# Splitting the dataset such that 70% data is used for training and 30% data for testing\n",
        "x_train,x_test,y_train,y_test=train_test_split(X,Y,test_size=0.3)\n",
        "print(\"There are \" + str(x_train.size)+ \" training entries and \" + str(x_test.size) + \" testing entries!\")\n",
        "\n",
        "# Converting the training data to numpy arrays as pytorch works only with numpy models\n",
        "x_train_np = x_train.to_numpy()\n",
        "y_train_np = y_train.to_numpy()\n",
        "\n",
        "# Converting the testing data to numpy arrays \n",
        "x_test_np = x_test.to_numpy()\n",
        "y_test_np = y_test.to_numpy()"
      ],
      "execution_count": 12,
      "outputs": [
        {
          "output_type": "stream",
          "text": [
            "There are 114424 training entries and 49040 testing entries!\n"
          ],
          "name": "stdout"
        }
      ]
    },
    {
      "cell_type": "code",
      "metadata": {
        "id": "spYjIodeQL11",
        "colab_type": "code",
        "colab": {}
      },
      "source": [
        "# model=linear_model.LinearRegression()\n",
        "# model.fit(x_train,y_train)"
      ],
      "execution_count": 0,
      "outputs": []
    },
    {
      "cell_type": "code",
      "metadata": {
        "id": "AD-eBeJsQZqe",
        "colab_type": "code",
        "colab": {}
      },
      "source": [
        "# predictions=model.predict(x_test)\n",
        "# mse=mean_squared_error(y_test,predictions)\n",
        "# print(\"The model's mean squared error is: \" + str(mse))\n",
        "\n",
        "# r2 = r2_score(y_test,predictions)\n",
        "# print(\"R2 score : \" +str(r2))"
      ],
      "execution_count": 0,
      "outputs": []
    },
    {
      "cell_type": "code",
      "metadata": {
        "id": "6IgUKk2RFDG7",
        "colab_type": "code",
        "colab": {}
      },
      "source": [
        "# Importing the pytorch library\n",
        "import torch\n",
        "\n",
        "# Importing 1D convolution layer\n",
        "from torch.nn import Conv1d\n",
        "\n",
        "# Importing the max pooling layer\n",
        "from torch.nn import MaxPool1d\n",
        "\n",
        "# Importing the flatten layer\n",
        "from torch.nn import Flatten\n",
        "\n",
        "# Importing the linear layer\n",
        "from torch.nn import Linear\n",
        "\n",
        "# Importing RELU activation fucntion  \n",
        "from torch.nn.functional import relu\n",
        "\n",
        "# Importing Dataloader and TensorDataset to work with dataset\n",
        "from torch.utils.data import DataLoader, TensorDataset"
      ],
      "execution_count": 0,
      "outputs": []
    },
    {
      "cell_type": "code",
      "metadata": {
        "id": "QszB3zGRFlOb",
        "colab_type": "code",
        "colab": {}
      },
      "source": [
        "# Defining a class as a subclass of torch.nn.Module\n",
        "class CnnRegressor(torch.nn.Module):\n",
        "  \n",
        "  # Initialization method\n",
        "  def __init__(self,batch_size,inputs,outputs):\n",
        "  \n",
        "    # Initializing the superclass and storing the parameters\n",
        "    super(CnnRegressor,self).__init__()\n",
        "  \n",
        "    self.batch_size=batch_size\n",
        "    self.inputs=inputs\n",
        "    self.outputs=outputs\n",
        "\n",
        "    # Defining the input layer\n",
        "    self.input_layer=Conv1d(inputs,batch_size,1)\n",
        "\n",
        "    # Defining the max pooling layer\n",
        "    self.max_pooling_layer = MaxPool1d(1)\n",
        "\n",
        "    # Defining another convolution layer\n",
        "    self.conv_layer = Conv1d(batch_size,128,1)\n",
        "\n",
        "    # Defining flatten layer\n",
        "    self.flatten_layer=Flatten()\n",
        "\n",
        "    # Defining linear layer\n",
        "    self.linear_layer = Linear(128,64)\n",
        "\n",
        "    # Defining the output layer\n",
        "    self.output_layer = Linear(64,outputs)\n",
        "\n",
        "  # A method that feeds inputs through the model\n",
        "  def feed(self,input):\n",
        "\n",
        "    # Reshaping the entry so that it can be fed to input layer\n",
        "    input=input.reshape((self.batch_size,self.inputs,1))\n",
        "\n",
        "    # Getting the output of 1st layer and running it through the ReLU activation function\n",
        "    output=relu(self.input_layer(input))\n",
        "\n",
        "    output=self.max_pooling_layer(output)\n",
        "\n",
        "    # Getting the output of 2nd layer and running it through the ReLU activation function\n",
        "    output=relu(self.conv_layer(output))\n",
        "\n",
        "    output=self.flatten_layer(output)\n",
        "\n",
        "    # Getting the output of linear layer and running it through the ReLU activation function\n",
        "    output=self.linear_layer(output)\n",
        "\n",
        "    # Storing the output of output layer\n",
        "    output=self.output_layer(output)\n",
        "\n",
        "    return output"
      ],
      "execution_count": 0,
      "outputs": []
    },
    {
      "cell_type": "code",
      "metadata": {
        "id": "hoiqhX1NH6T3",
        "colab_type": "code",
        "outputId": "1a62880d-61d8-47cd-e64d-80185a671805",
        "colab": {
          "base_uri": "https://localhost:8080/",
          "height": 50
        }
      },
      "source": [
        "# from torch.optim import SGD\n",
        "# from torch.optim import Adagrad\n",
        "\n",
        "# Importing the Adam optimizer from torch module\n",
        "from torch.optim import Adam\n",
        "from torch.nn import L1Loss\n",
        "!pip install pytorch-ignite\n",
        "from ignite.contrib.metrics.regression.r2_score import R2Score"
      ],
      "execution_count": 27,
      "outputs": [
        {
          "output_type": "stream",
          "text": [
            "Requirement already satisfied: pytorch-ignite in /usr/local/lib/python3.6/dist-packages (0.3.0)\n",
            "Requirement already satisfied: torch in /usr/local/lib/python3.6/dist-packages (from pytorch-ignite) (1.4.0)\n"
          ],
          "name": "stdout"
        }
      ]
    },
    {
      "cell_type": "code",
      "metadata": {
        "id": "Y8GpCwbjKyon",
        "colab_type": "code",
        "outputId": "76e67b38-d878-4b7c-be42-b9d18048c322",
        "colab": {
          "base_uri": "https://localhost:8080/",
          "height": 151
        }
      },
      "source": [
        "# Defining the batch size \n",
        "batch_size=64\n",
        "\n",
        "model=CnnRegressor(batch_size,X.shape[1],1)\n",
        "\n",
        "# Setting the model to use the GPU for processing\n",
        "model.cuda()"
      ],
      "execution_count": 18,
      "outputs": [
        {
          "output_type": "execute_result",
          "data": {
            "text/plain": [
              "CnnRegressor(\n",
              "  (input_layer): Conv1d(8, 64, kernel_size=(1,), stride=(1,))\n",
              "  (max_pooling_layer): MaxPool1d(kernel_size=1, stride=1, padding=0, dilation=1, ceil_mode=False)\n",
              "  (conv_layer): Conv1d(64, 128, kernel_size=(1,), stride=(1,))\n",
              "  (flatten_layer): Flatten()\n",
              "  (linear_layer): Linear(in_features=128, out_features=64, bias=True)\n",
              "  (output_layer): Linear(in_features=64, out_features=1, bias=True)\n",
              ")"
            ]
          },
          "metadata": {
            "tags": []
          },
          "execution_count": 18
        }
      ]
    },
    {
      "cell_type": "code",
      "metadata": {
        "id": "lXsaKxoZLEPp",
        "colab_type": "code",
        "colab": {}
      },
      "source": [
        "# This method returns average L1Loss and R2 score of the passed model on the passed DataLoader\n",
        "def model_loss(model, dataset, train=False,optimizer= None):\n",
        "  performance = L1Loss()\n",
        "  score_metric = R2Score()\n",
        "\n",
        "  avg_loss = 0\n",
        "  avg_score = 0\n",
        "  count = 0\n",
        "\n",
        "  for input,output in iter(dataset):\n",
        "    \n",
        "    # Getting model's predictions for training dataset\n",
        "    predictions = model.feed(input)\n",
        "    \n",
        "    loss = performance(predictions, output)\n",
        "\n",
        "    score_metric.update([predictions,output])\n",
        "    score=score_metric.compute()\n",
        "\n",
        "    if(train):\n",
        "\n",
        "      # Clear any errors so they don't appear\n",
        "      optimizer.zero_grad()\n",
        "\n",
        "      # Compute gradients for optimizer\n",
        "      loss.backward()\n",
        "\n",
        "      # Use the optimizer to update the model's parameters based on the gradients\n",
        "      optimizer.step()\n",
        "    \n",
        "    # Store the loss and update the counter\n",
        "    avg_loss+= loss.item()\n",
        "    avg_score+= score\n",
        "    count+=1\n",
        "  \n",
        "  return avg_loss/count,avg_score/count"
      ],
      "execution_count": 0,
      "outputs": []
    },
    {
      "cell_type": "code",
      "metadata": {
        "id": "C8qZdnjzRoa7",
        "colab_type": "code",
        "outputId": "e4c99637-c442-4c27-e663-81883dcf6070",
        "colab": {
          "base_uri": "https://localhost:8080/",
          "height": 67
        }
      },
      "source": [
        "# Defining the number of epochs to train for\n",
        "epochs = 100\n",
        "\n",
        "# Defining the optimizer for better performance\n",
        "\n",
        "# optimizer = SGD(model.parameters(),lr=1e-5)\n",
        "# optimizer=Adagrad(model.parameters(), lr=0.01, lr_decay=0, weight_decay=0, initial_accumulator_value=0, eps=1e-10)\n",
        "optimizer=Adam(model.parameters(), lr=1e-3, betas=(0.9, 0.999), eps=1e-08, weight_decay=0, amsgrad=False)\n",
        "\n",
        "# Converting the training set into torch variables\n",
        "inputs=torch.from_numpy(x_train_np).cuda().float()\n",
        "outputs=torch.from_numpy(y_train_np.reshape(y_train_np.shape[0],1)).cuda().float()\n",
        "\n",
        "# Creating DataLoader instance to work with batches \n",
        "tensor=TensorDataset(inputs, outputs)\n",
        "loader=DataLoader(tensor, batch_size, shuffle=True,drop_last=True)\n",
        "\n",
        "for epoch in range(epochs):\n",
        "  avg_loss,avg_r2_score=model_loss(model,loader,train=True,optimizer=optimizer)\n",
        "\n",
        "print(\"Epoch \" +str(epoch+1) +\":\\n\\tLoss = \" +str(avg_loss) + \"\\n\\tR2 Score = \" +str(avg_r2_score))"
      ],
      "execution_count": 30,
      "outputs": [
        {
          "output_type": "stream",
          "text": [
            "Epoch 100:\n",
            "\tLoss = 47113.212741732066\n",
            "\tR2 Score = 0.6463740002519015\n"
          ],
          "name": "stdout"
        }
      ]
    },
    {
      "cell_type": "code",
      "metadata": {
        "id": "dNfB5EsYz2cr",
        "colab_type": "code",
        "outputId": "d246bc67-68b7-4bf8-c109-a793231c9a59",
        "colab": {
          "base_uri": "https://localhost:8080/",
          "height": 67
        }
      },
      "source": [
        "# Converting the testing set into torch variables\n",
        "inputs=torch.from_numpy(x_test_np).cuda().float()\n",
        "outputs=torch.from_numpy(y_test_np.reshape(y_test_np.shape[0],1)).cuda().float()\n",
        "\n",
        "# Creating DataLoader instance to work with batches \n",
        "tensor=TensorDataset(inputs, outputs)\n",
        "loader=DataLoader(tensor,batch_size,shuffle=True,drop_last=True)\n",
        "\n",
        "avg_loss,avg_r2_score = model_loss(model,loader)\n",
        "\n",
        "# Output the performnce of the model\n",
        "print(\"Model's L1 loss is : \" +str(avg_loss))\n",
        "print(\"Model's R2 score is : \" +str(avg_r2_score))\n",
        "print(\"Inference time : %s seconds\" % (time.time() - start_time))"
      ],
      "execution_count": 31,
      "outputs": [
        {
          "output_type": "stream",
          "text": [
            "Model's L1 loss is : 48927.012376644736\n",
            "Model's R2 score is : 0.6831342908639345\n",
            "Inference time : 497.9881889820099 seconds\n"
          ],
          "name": "stdout"
        }
      ]
    }
  ]
}